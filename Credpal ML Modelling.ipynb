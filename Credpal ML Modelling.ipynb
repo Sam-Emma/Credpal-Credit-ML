{
 "cells": [
  {
   "cell_type": "code",
   "execution_count": 1,
   "metadata": {},
   "outputs": [],
   "source": [
    "#import necessary libraries\n",
    "import pandas as pd\n",
    "import numpy as np\n",
    "from sklearn.metrics import classification_report, confusion_matrix, accuracy_score\n",
    "import seaborn as sns"
   ]
  },
  {
   "cell_type": "code",
   "execution_count": 2,
   "metadata": {},
   "outputs": [],
   "source": [
    "data = pd.read_csv('Credit Default Dataset.csv')"
   ]
  },
  {
   "cell_type": "code",
   "execution_count": 3,
   "metadata": {},
   "outputs": [
    {
     "data": {
      "text/html": [
       "<div>\n",
       "<style scoped>\n",
       "    .dataframe tbody tr th:only-of-type {\n",
       "        vertical-align: middle;\n",
       "    }\n",
       "\n",
       "    .dataframe tbody tr th {\n",
       "        vertical-align: top;\n",
       "    }\n",
       "\n",
       "    .dataframe thead th {\n",
       "        text-align: right;\n",
       "    }\n",
       "</style>\n",
       "<table border=\"1\" class=\"dataframe\">\n",
       "  <thead>\n",
       "    <tr style=\"text-align: right;\">\n",
       "      <th></th>\n",
       "      <th>ID</th>\n",
       "      <th>SALARY</th>\n",
       "      <th>SEX</th>\n",
       "      <th>EDUCATION</th>\n",
       "      <th>MARRIAGE</th>\n",
       "      <th>AGE</th>\n",
       "      <th>AVERAGE PAYMENT DELAY</th>\n",
       "      <th>DEFAULT</th>\n",
       "    </tr>\n",
       "  </thead>\n",
       "  <tbody>\n",
       "    <tr>\n",
       "      <th>0</th>\n",
       "      <td>1</td>\n",
       "      <td>20,000.00</td>\n",
       "      <td>2</td>\n",
       "      <td>2</td>\n",
       "      <td>1</td>\n",
       "      <td>24</td>\n",
       "      <td>2</td>\n",
       "      <td>1</td>\n",
       "    </tr>\n",
       "    <tr>\n",
       "      <th>1</th>\n",
       "      <td>2</td>\n",
       "      <td>120,000.00</td>\n",
       "      <td>2</td>\n",
       "      <td>2</td>\n",
       "      <td>2</td>\n",
       "      <td>26</td>\n",
       "      <td>-1</td>\n",
       "      <td>1</td>\n",
       "    </tr>\n",
       "    <tr>\n",
       "      <th>2</th>\n",
       "      <td>3</td>\n",
       "      <td>90,000.00</td>\n",
       "      <td>2</td>\n",
       "      <td>2</td>\n",
       "      <td>2</td>\n",
       "      <td>34</td>\n",
       "      <td>0</td>\n",
       "      <td>0</td>\n",
       "    </tr>\n",
       "    <tr>\n",
       "      <th>3</th>\n",
       "      <td>4</td>\n",
       "      <td>50,000.00</td>\n",
       "      <td>2</td>\n",
       "      <td>2</td>\n",
       "      <td>1</td>\n",
       "      <td>37</td>\n",
       "      <td>0</td>\n",
       "      <td>0</td>\n",
       "    </tr>\n",
       "    <tr>\n",
       "      <th>4</th>\n",
       "      <td>5</td>\n",
       "      <td>50,000.00</td>\n",
       "      <td>1</td>\n",
       "      <td>2</td>\n",
       "      <td>1</td>\n",
       "      <td>57</td>\n",
       "      <td>-1</td>\n",
       "      <td>0</td>\n",
       "    </tr>\n",
       "    <tr>\n",
       "      <th>...</th>\n",
       "      <td>...</td>\n",
       "      <td>...</td>\n",
       "      <td>...</td>\n",
       "      <td>...</td>\n",
       "      <td>...</td>\n",
       "      <td>...</td>\n",
       "      <td>...</td>\n",
       "      <td>...</td>\n",
       "    </tr>\n",
       "    <tr>\n",
       "      <th>29158</th>\n",
       "      <td>29996</td>\n",
       "      <td>220,000.00</td>\n",
       "      <td>1</td>\n",
       "      <td>3</td>\n",
       "      <td>1</td>\n",
       "      <td>39</td>\n",
       "      <td>0</td>\n",
       "      <td>0</td>\n",
       "    </tr>\n",
       "    <tr>\n",
       "      <th>29159</th>\n",
       "      <td>29997</td>\n",
       "      <td>150,000.00</td>\n",
       "      <td>1</td>\n",
       "      <td>3</td>\n",
       "      <td>2</td>\n",
       "      <td>43</td>\n",
       "      <td>-1</td>\n",
       "      <td>0</td>\n",
       "    </tr>\n",
       "    <tr>\n",
       "      <th>29160</th>\n",
       "      <td>29998</td>\n",
       "      <td>30,000.00</td>\n",
       "      <td>1</td>\n",
       "      <td>2</td>\n",
       "      <td>2</td>\n",
       "      <td>37</td>\n",
       "      <td>4</td>\n",
       "      <td>1</td>\n",
       "    </tr>\n",
       "    <tr>\n",
       "      <th>29161</th>\n",
       "      <td>29999</td>\n",
       "      <td>80,000.00</td>\n",
       "      <td>1</td>\n",
       "      <td>3</td>\n",
       "      <td>1</td>\n",
       "      <td>41</td>\n",
       "      <td>1</td>\n",
       "      <td>1</td>\n",
       "    </tr>\n",
       "    <tr>\n",
       "      <th>29162</th>\n",
       "      <td>30000</td>\n",
       "      <td>50,000.00</td>\n",
       "      <td>1</td>\n",
       "      <td>2</td>\n",
       "      <td>1</td>\n",
       "      <td>46</td>\n",
       "      <td>0</td>\n",
       "      <td>1</td>\n",
       "    </tr>\n",
       "  </tbody>\n",
       "</table>\n",
       "<p>29163 rows × 8 columns</p>\n",
       "</div>"
      ],
      "text/plain": [
       "          ID      SALARY  SEX  EDUCATION  MARRIAGE  AGE  \\\n",
       "0          1   20,000.00    2          2         1   24   \n",
       "1          2  120,000.00    2          2         2   26   \n",
       "2          3   90,000.00    2          2         2   34   \n",
       "3          4   50,000.00    2          2         1   37   \n",
       "4          5   50,000.00    1          2         1   57   \n",
       "...      ...         ...  ...        ...       ...  ...   \n",
       "29158  29996  220,000.00    1          3         1   39   \n",
       "29159  29997  150,000.00    1          3         2   43   \n",
       "29160  29998   30,000.00    1          2         2   37   \n",
       "29161  29999   80,000.00    1          3         1   41   \n",
       "29162  30000   50,000.00    1          2         1   46   \n",
       "\n",
       "       AVERAGE PAYMENT DELAY  DEFAULT  \n",
       "0                          2        1  \n",
       "1                         -1        1  \n",
       "2                          0        0  \n",
       "3                          0        0  \n",
       "4                         -1        0  \n",
       "...                      ...      ...  \n",
       "29158                      0        0  \n",
       "29159                     -1        0  \n",
       "29160                      4        1  \n",
       "29161                      1        1  \n",
       "29162                      0        1  \n",
       "\n",
       "[29163 rows x 8 columns]"
      ]
     },
     "execution_count": 3,
     "metadata": {},
     "output_type": "execute_result"
    }
   ],
   "source": [
    "data"
   ]
  },
  {
   "cell_type": "code",
   "execution_count": 4,
   "metadata": {},
   "outputs": [
    {
     "name": "stdout",
     "output_type": "stream",
     "text": [
      "0    22649\n",
      "1     6514\n",
      "Name: DEFAULT, dtype: int64\n"
     ]
    },
    {
     "name": "stderr",
     "output_type": "stream",
     "text": [
      "C:\\ProgramData\\Anaconda3\\lib\\site-packages\\seaborn\\_decorators.py:36: FutureWarning: Pass the following variable as a keyword arg: x. From version 0.12, the only valid positional argument will be `data`, and passing other arguments without an explicit keyword will result in an error or misinterpretation.\n",
      "  warnings.warn(\n"
     ]
    },
    {
     "data": {
      "image/png": "[encoded data removed]",
      "text/plain": [
       "<Figure size 432x288 with 1 Axes>"
      ]
     },
     "metadata": {
      "needs_background": "light"
     },
     "output_type": "display_data"
    }
   ],
   "source": [
    "p = data['DEFAULT']\n",
    "print(p.value_counts())\n",
    "sns.countplot(p);"
   ]
  },
  {
   "cell_type": "markdown",
   "metadata": {},
   "source": [
    "### This dataset is imbalance - the number of Defaulters is far more than number of non-defaulters. This might potentially affect the performance of the model"
   ]
  },
  {
   "cell_type": "code",
   "execution_count": 5,
   "metadata": {},
   "outputs": [
    {
     "name": "stdout",
     "output_type": "stream",
     "text": [
      "<class 'pandas.core.frame.DataFrame'>\n",
      "RangeIndex: 29163 entries, 0 to 29162\n",
      "Data columns (total 8 columns):\n",
      " #   Column                 Non-Null Count  Dtype \n",
      "---  ------                 --------------  ----- \n",
      " 0   ID                     29163 non-null  int64 \n",
      " 1   SALARY                 29163 non-null  object\n",
      " 2   SEX                    29163 non-null  int64 \n",
      " 3   EDUCATION              29163 non-null  int64 \n",
      " 4   MARRIAGE               29163 non-null  int64 \n",
      " 5   AGE                    29163 non-null  int64 \n",
      " 6   AVERAGE PAYMENT DELAY  29163 non-null  int64 \n",
      " 7   DEFAULT                29163 non-null  int64 \n",
      "dtypes: int64(7), object(1)\n",
      "memory usage: 1.7+ MB\n"
     ]
    }
   ],
   "source": [
    "data.info()"
   ]
  },
  {
   "cell_type": "code",
   "execution_count": 6,
   "metadata": {},
   "outputs": [
    {
     "data": {
      "text/html": [
       "<div>\n",
       "<style scoped>\n",
       "    .dataframe tbody tr th:only-of-type {\n",
       "        vertical-align: middle;\n",
       "    }\n",
       "\n",
       "    .dataframe tbody tr th {\n",
       "        vertical-align: top;\n",
       "    }\n",
       "\n",
       "    .dataframe thead th {\n",
       "        text-align: right;\n",
       "    }\n",
       "</style>\n",
       "<table border=\"1\" class=\"dataframe\">\n",
       "  <thead>\n",
       "    <tr style=\"text-align: right;\">\n",
       "      <th></th>\n",
       "      <th>ID</th>\n",
       "      <th>SEX</th>\n",
       "      <th>EDUCATION</th>\n",
       "      <th>MARRIAGE</th>\n",
       "      <th>AGE</th>\n",
       "      <th>AVERAGE PAYMENT DELAY</th>\n",
       "      <th>DEFAULT</th>\n",
       "    </tr>\n",
       "  </thead>\n",
       "  <tbody>\n",
       "    <tr>\n",
       "      <th>count</th>\n",
       "      <td>29163.000000</td>\n",
       "      <td>29163.000000</td>\n",
       "      <td>29163.000000</td>\n",
       "      <td>29163.000000</td>\n",
       "      <td>29163.000000</td>\n",
       "      <td>29163.000000</td>\n",
       "      <td>29163.000000</td>\n",
       "    </tr>\n",
       "    <tr>\n",
       "      <th>mean</th>\n",
       "      <td>14973.207626</td>\n",
       "      <td>1.603093</td>\n",
       "      <td>1.802455</td>\n",
       "      <td>1.539656</td>\n",
       "      <td>35.390563</td>\n",
       "      <td>-0.014882</td>\n",
       "      <td>0.223365</td>\n",
       "    </tr>\n",
       "    <tr>\n",
       "      <th>std</th>\n",
       "      <td>8657.500199</td>\n",
       "      <td>0.489265</td>\n",
       "      <td>0.696896</td>\n",
       "      <td>0.498433</td>\n",
       "      <td>9.181333</td>\n",
       "      <td>1.125631</td>\n",
       "      <td>0.416508</td>\n",
       "    </tr>\n",
       "    <tr>\n",
       "      <th>min</th>\n",
       "      <td>1.000000</td>\n",
       "      <td>1.000000</td>\n",
       "      <td>1.000000</td>\n",
       "      <td>1.000000</td>\n",
       "      <td>21.000000</td>\n",
       "      <td>-2.000000</td>\n",
       "      <td>0.000000</td>\n",
       "    </tr>\n",
       "    <tr>\n",
       "      <th>25%</th>\n",
       "      <td>7489.500000</td>\n",
       "      <td>1.000000</td>\n",
       "      <td>1.000000</td>\n",
       "      <td>1.000000</td>\n",
       "      <td>28.000000</td>\n",
       "      <td>-1.000000</td>\n",
       "      <td>0.000000</td>\n",
       "    </tr>\n",
       "    <tr>\n",
       "      <th>50%</th>\n",
       "      <td>14953.000000</td>\n",
       "      <td>2.000000</td>\n",
       "      <td>2.000000</td>\n",
       "      <td>2.000000</td>\n",
       "      <td>34.000000</td>\n",
       "      <td>0.000000</td>\n",
       "      <td>0.000000</td>\n",
       "    </tr>\n",
       "    <tr>\n",
       "      <th>75%</th>\n",
       "      <td>22459.500000</td>\n",
       "      <td>2.000000</td>\n",
       "      <td>2.000000</td>\n",
       "      <td>2.000000</td>\n",
       "      <td>41.000000</td>\n",
       "      <td>0.000000</td>\n",
       "      <td>0.000000</td>\n",
       "    </tr>\n",
       "    <tr>\n",
       "      <th>max</th>\n",
       "      <td>30000.000000</td>\n",
       "      <td>2.000000</td>\n",
       "      <td>3.000000</td>\n",
       "      <td>2.000000</td>\n",
       "      <td>79.000000</td>\n",
       "      <td>8.000000</td>\n",
       "      <td>1.000000</td>\n",
       "    </tr>\n",
       "  </tbody>\n",
       "</table>\n",
       "</div>"
      ],
      "text/plain": [
       "                 ID           SEX     EDUCATION      MARRIAGE           AGE  \\\n",
       "count  29163.000000  29163.000000  29163.000000  29163.000000  29163.000000   \n",
       "mean   14973.207626      1.603093      1.802455      1.539656     35.390563   \n",
       "std     8657.500199      0.489265      0.696896      0.498433      9.181333   \n",
       "min        1.000000      1.000000      1.000000      1.000000     21.000000   \n",
       "25%     7489.500000      1.000000      1.000000      1.000000     28.000000   \n",
       "50%    14953.000000      2.000000      2.000000      2.000000     34.000000   \n",
       "75%    22459.500000      2.000000      2.000000      2.000000     41.000000   \n",
       "max    30000.000000      2.000000      3.000000      2.000000     79.000000   \n",
       "\n",
       "       AVERAGE PAYMENT DELAY       DEFAULT  \n",
       "count           29163.000000  29163.000000  \n",
       "mean               -0.014882      0.223365  \n",
       "std                 1.125631      0.416508  \n",
       "min                -2.000000      0.000000  \n",
       "25%                -1.000000      0.000000  \n",
       "50%                 0.000000      0.000000  \n",
       "75%                 0.000000      0.000000  \n",
       "max                 8.000000      1.000000  "
      ]
     },
     "execution_count": 6,
     "metadata": {},
     "output_type": "execute_result"
    }
   ],
   "source": [
    "data.describe()"
   ]
  },
  {
   "cell_type": "markdown",
   "metadata": {},
   "source": [
    "## Data Preprocessing"
   ]
  },
  {
   "cell_type": "code",
   "execution_count": 7,
   "metadata": {},
   "outputs": [
    {
     "data": {
      "text/plain": [
       "array([ 2, -1,  0, -2,  1,  3,  4,  8,  7,  5,  6], dtype=int64)"
      ]
     },
     "execution_count": 7,
     "metadata": {},
     "output_type": "execute_result"
    }
   ],
   "source": [
    "data['AVERAGE PAYMENT DELAY'].unique()"
   ]
  },
  {
   "cell_type": "code",
   "execution_count": 8,
   "metadata": {},
   "outputs": [],
   "source": [
    "data['SALARY'] = data['SALARY'].str.replace(',', '')\n",
    "data['SALARY'] = data['SALARY'].astype(float)\n",
    "data['AVERAGE PAYMENT DELAY'] = data['AVERAGE PAYMENT DELAY'].replace(0,-1)\n",
    "data['AVERAGE PAYMENT DELAY'] = data['AVERAGE PAYMENT DELAY'].replace(-2,-1)"
   ]
  },
  {
   "cell_type": "code",
   "execution_count": null,
   "metadata": {},
   "outputs": [],
   "source": []
  },
  {
   "cell_type": "code",
   "execution_count": 9,
   "metadata": {},
   "outputs": [
    {
     "data": {
      "text/html": [
       "<div>\n",
       "<style scoped>\n",
       "    .dataframe tbody tr th:only-of-type {\n",
       "        vertical-align: middle;\n",
       "    }\n",
       "\n",
       "    .dataframe tbody tr th {\n",
       "        vertical-align: top;\n",
       "    }\n",
       "\n",
       "    .dataframe thead th {\n",
       "        text-align: right;\n",
       "    }\n",
       "</style>\n",
       "<table border=\"1\" class=\"dataframe\">\n",
       "  <thead>\n",
       "    <tr style=\"text-align: right;\">\n",
       "      <th></th>\n",
       "      <th>ID</th>\n",
       "      <th>SALARY</th>\n",
       "      <th>SEX</th>\n",
       "      <th>EDUCATION</th>\n",
       "      <th>MARRIAGE</th>\n",
       "      <th>AGE</th>\n",
       "      <th>AVERAGE PAYMENT DELAY</th>\n",
       "      <th>DEFAULT</th>\n",
       "    </tr>\n",
       "  </thead>\n",
       "  <tbody>\n",
       "    <tr>\n",
       "      <th>0</th>\n",
       "      <td>1</td>\n",
       "      <td>20000.0</td>\n",
       "      <td>2</td>\n",
       "      <td>2</td>\n",
       "      <td>1</td>\n",
       "      <td>24</td>\n",
       "      <td>2</td>\n",
       "      <td>1</td>\n",
       "    </tr>\n",
       "    <tr>\n",
       "      <th>1</th>\n",
       "      <td>2</td>\n",
       "      <td>120000.0</td>\n",
       "      <td>2</td>\n",
       "      <td>2</td>\n",
       "      <td>2</td>\n",
       "      <td>26</td>\n",
       "      <td>-1</td>\n",
       "      <td>1</td>\n",
       "    </tr>\n",
       "    <tr>\n",
       "      <th>2</th>\n",
       "      <td>3</td>\n",
       "      <td>90000.0</td>\n",
       "      <td>2</td>\n",
       "      <td>2</td>\n",
       "      <td>2</td>\n",
       "      <td>34</td>\n",
       "      <td>-1</td>\n",
       "      <td>0</td>\n",
       "    </tr>\n",
       "    <tr>\n",
       "      <th>3</th>\n",
       "      <td>4</td>\n",
       "      <td>50000.0</td>\n",
       "      <td>2</td>\n",
       "      <td>2</td>\n",
       "      <td>1</td>\n",
       "      <td>37</td>\n",
       "      <td>-1</td>\n",
       "      <td>0</td>\n",
       "    </tr>\n",
       "    <tr>\n",
       "      <th>4</th>\n",
       "      <td>5</td>\n",
       "      <td>50000.0</td>\n",
       "      <td>1</td>\n",
       "      <td>2</td>\n",
       "      <td>1</td>\n",
       "      <td>57</td>\n",
       "      <td>-1</td>\n",
       "      <td>0</td>\n",
       "    </tr>\n",
       "    <tr>\n",
       "      <th>...</th>\n",
       "      <td>...</td>\n",
       "      <td>...</td>\n",
       "      <td>...</td>\n",
       "      <td>...</td>\n",
       "      <td>...</td>\n",
       "      <td>...</td>\n",
       "      <td>...</td>\n",
       "      <td>...</td>\n",
       "    </tr>\n",
       "    <tr>\n",
       "      <th>29158</th>\n",
       "      <td>29996</td>\n",
       "      <td>220000.0</td>\n",
       "      <td>1</td>\n",
       "      <td>3</td>\n",
       "      <td>1</td>\n",
       "      <td>39</td>\n",
       "      <td>-1</td>\n",
       "      <td>0</td>\n",
       "    </tr>\n",
       "    <tr>\n",
       "      <th>29159</th>\n",
       "      <td>29997</td>\n",
       "      <td>150000.0</td>\n",
       "      <td>1</td>\n",
       "      <td>3</td>\n",
       "      <td>2</td>\n",
       "      <td>43</td>\n",
       "      <td>-1</td>\n",
       "      <td>0</td>\n",
       "    </tr>\n",
       "    <tr>\n",
       "      <th>29160</th>\n",
       "      <td>29998</td>\n",
       "      <td>30000.0</td>\n",
       "      <td>1</td>\n",
       "      <td>2</td>\n",
       "      <td>2</td>\n",
       "      <td>37</td>\n",
       "      <td>4</td>\n",
       "      <td>1</td>\n",
       "    </tr>\n",
       "    <tr>\n",
       "      <th>29161</th>\n",
       "      <td>29999</td>\n",
       "      <td>80000.0</td>\n",
       "      <td>1</td>\n",
       "      <td>3</td>\n",
       "      <td>1</td>\n",
       "      <td>41</td>\n",
       "      <td>1</td>\n",
       "      <td>1</td>\n",
       "    </tr>\n",
       "    <tr>\n",
       "      <th>29162</th>\n",
       "      <td>30000</td>\n",
       "      <td>50000.0</td>\n",
       "      <td>1</td>\n",
       "      <td>2</td>\n",
       "      <td>1</td>\n",
       "      <td>46</td>\n",
       "      <td>-1</td>\n",
       "      <td>1</td>\n",
       "    </tr>\n",
       "  </tbody>\n",
       "</table>\n",
       "<p>29163 rows × 8 columns</p>\n",
       "</div>"
      ],
      "text/plain": [
       "          ID    SALARY  SEX  EDUCATION  MARRIAGE  AGE  AVERAGE PAYMENT DELAY  \\\n",
       "0          1   20000.0    2          2         1   24                      2   \n",
       "1          2  120000.0    2          2         2   26                     -1   \n",
       "2          3   90000.0    2          2         2   34                     -1   \n",
       "3          4   50000.0    2          2         1   37                     -1   \n",
       "4          5   50000.0    1          2         1   57                     -1   \n",
       "...      ...       ...  ...        ...       ...  ...                    ...   \n",
       "29158  29996  220000.0    1          3         1   39                     -1   \n",
       "29159  29997  150000.0    1          3         2   43                     -1   \n",
       "29160  29998   30000.0    1          2         2   37                      4   \n",
       "29161  29999   80000.0    1          3         1   41                      1   \n",
       "29162  30000   50000.0    1          2         1   46                     -1   \n",
       "\n",
       "       DEFAULT  \n",
       "0            1  \n",
       "1            1  \n",
       "2            0  \n",
       "3            0  \n",
       "4            0  \n",
       "...        ...  \n",
       "29158        0  \n",
       "29159        0  \n",
       "29160        1  \n",
       "29161        1  \n",
       "29162        1  \n",
       "\n",
       "[29163 rows x 8 columns]"
      ]
     },
     "execution_count": 9,
     "metadata": {},
     "output_type": "execute_result"
    }
   ],
   "source": [
    "data"
   ]
  },
  {
   "cell_type": "code",
   "execution_count": 10,
   "metadata": {},
   "outputs": [],
   "source": [
    "data = pd.get_dummies(data,columns = ['SEX','MARRIAGE'],prefix_sep = '-',drop_first=True)"
   ]
  },
  {
   "cell_type": "code",
   "execution_count": 11,
   "metadata": {},
   "outputs": [
    {
     "data": {
      "text/html": [
       "<div>\n",
       "<style scoped>\n",
       "    .dataframe tbody tr th:only-of-type {\n",
       "        vertical-align: middle;\n",
       "    }\n",
       "\n",
       "    .dataframe tbody tr th {\n",
       "        vertical-align: top;\n",
       "    }\n",
       "\n",
       "    .dataframe thead th {\n",
       "        text-align: right;\n",
       "    }\n",
       "</style>\n",
       "<table border=\"1\" class=\"dataframe\">\n",
       "  <thead>\n",
       "    <tr style=\"text-align: right;\">\n",
       "      <th></th>\n",
       "      <th>ID</th>\n",
       "      <th>SALARY</th>\n",
       "      <th>EDUCATION</th>\n",
       "      <th>AGE</th>\n",
       "      <th>AVERAGE PAYMENT DELAY</th>\n",
       "      <th>DEFAULT</th>\n",
       "      <th>SEX-2</th>\n",
       "      <th>MARRIAGE-2</th>\n",
       "    </tr>\n",
       "  </thead>\n",
       "  <tbody>\n",
       "    <tr>\n",
       "      <th>0</th>\n",
       "      <td>1</td>\n",
       "      <td>20000.0</td>\n",
       "      <td>2</td>\n",
       "      <td>24</td>\n",
       "      <td>2</td>\n",
       "      <td>1</td>\n",
       "      <td>1</td>\n",
       "      <td>0</td>\n",
       "    </tr>\n",
       "    <tr>\n",
       "      <th>1</th>\n",
       "      <td>2</td>\n",
       "      <td>120000.0</td>\n",
       "      <td>2</td>\n",
       "      <td>26</td>\n",
       "      <td>-1</td>\n",
       "      <td>1</td>\n",
       "      <td>1</td>\n",
       "      <td>1</td>\n",
       "    </tr>\n",
       "    <tr>\n",
       "      <th>2</th>\n",
       "      <td>3</td>\n",
       "      <td>90000.0</td>\n",
       "      <td>2</td>\n",
       "      <td>34</td>\n",
       "      <td>-1</td>\n",
       "      <td>0</td>\n",
       "      <td>1</td>\n",
       "      <td>1</td>\n",
       "    </tr>\n",
       "    <tr>\n",
       "      <th>3</th>\n",
       "      <td>4</td>\n",
       "      <td>50000.0</td>\n",
       "      <td>2</td>\n",
       "      <td>37</td>\n",
       "      <td>-1</td>\n",
       "      <td>0</td>\n",
       "      <td>1</td>\n",
       "      <td>0</td>\n",
       "    </tr>\n",
       "    <tr>\n",
       "      <th>4</th>\n",
       "      <td>5</td>\n",
       "      <td>50000.0</td>\n",
       "      <td>2</td>\n",
       "      <td>57</td>\n",
       "      <td>-1</td>\n",
       "      <td>0</td>\n",
       "      <td>0</td>\n",
       "      <td>0</td>\n",
       "    </tr>\n",
       "    <tr>\n",
       "      <th>...</th>\n",
       "      <td>...</td>\n",
       "      <td>...</td>\n",
       "      <td>...</td>\n",
       "      <td>...</td>\n",
       "      <td>...</td>\n",
       "      <td>...</td>\n",
       "      <td>...</td>\n",
       "      <td>...</td>\n",
       "    </tr>\n",
       "    <tr>\n",
       "      <th>29158</th>\n",
       "      <td>29996</td>\n",
       "      <td>220000.0</td>\n",
       "      <td>3</td>\n",
       "      <td>39</td>\n",
       "      <td>-1</td>\n",
       "      <td>0</td>\n",
       "      <td>0</td>\n",
       "      <td>0</td>\n",
       "    </tr>\n",
       "    <tr>\n",
       "      <th>29159</th>\n",
       "      <td>29997</td>\n",
       "      <td>150000.0</td>\n",
       "      <td>3</td>\n",
       "      <td>43</td>\n",
       "      <td>-1</td>\n",
       "      <td>0</td>\n",
       "      <td>0</td>\n",
       "      <td>1</td>\n",
       "    </tr>\n",
       "    <tr>\n",
       "      <th>29160</th>\n",
       "      <td>29998</td>\n",
       "      <td>30000.0</td>\n",
       "      <td>2</td>\n",
       "      <td>37</td>\n",
       "      <td>4</td>\n",
       "      <td>1</td>\n",
       "      <td>0</td>\n",
       "      <td>1</td>\n",
       "    </tr>\n",
       "    <tr>\n",
       "      <th>29161</th>\n",
       "      <td>29999</td>\n",
       "      <td>80000.0</td>\n",
       "      <td>3</td>\n",
       "      <td>41</td>\n",
       "      <td>1</td>\n",
       "      <td>1</td>\n",
       "      <td>0</td>\n",
       "      <td>0</td>\n",
       "    </tr>\n",
       "    <tr>\n",
       "      <th>29162</th>\n",
       "      <td>30000</td>\n",
       "      <td>50000.0</td>\n",
       "      <td>2</td>\n",
       "      <td>46</td>\n",
       "      <td>-1</td>\n",
       "      <td>1</td>\n",
       "      <td>0</td>\n",
       "      <td>0</td>\n",
       "    </tr>\n",
       "  </tbody>\n",
       "</table>\n",
       "<p>29163 rows × 8 columns</p>\n",
       "</div>"
      ],
      "text/plain": [
       "          ID    SALARY  EDUCATION  AGE  AVERAGE PAYMENT DELAY  DEFAULT  SEX-2  \\\n",
       "0          1   20000.0          2   24                      2        1      1   \n",
       "1          2  120000.0          2   26                     -1        1      1   \n",
       "2          3   90000.0          2   34                     -1        0      1   \n",
       "3          4   50000.0          2   37                     -1        0      1   \n",
       "4          5   50000.0          2   57                     -1        0      0   \n",
       "...      ...       ...        ...  ...                    ...      ...    ...   \n",
       "29158  29996  220000.0          3   39                     -1        0      0   \n",
       "29159  29997  150000.0          3   43                     -1        0      0   \n",
       "29160  29998   30000.0          2   37                      4        1      0   \n",
       "29161  29999   80000.0          3   41                      1        1      0   \n",
       "29162  30000   50000.0          2   46                     -1        1      0   \n",
       "\n",
       "       MARRIAGE-2  \n",
       "0               0  \n",
       "1               1  \n",
       "2               1  \n",
       "3               0  \n",
       "4               0  \n",
       "...           ...  \n",
       "29158           0  \n",
       "29159           1  \n",
       "29160           1  \n",
       "29161           0  \n",
       "29162           0  \n",
       "\n",
       "[29163 rows x 8 columns]"
      ]
     },
     "execution_count": 11,
     "metadata": {},
     "output_type": "execute_result"
    }
   ],
   "source": [
    "data"
   ]
  },
  {
   "cell_type": "markdown",
   "metadata": {},
   "source": [
    "## Feature Selection"
   ]
  },
  {
   "cell_type": "code",
   "execution_count": 12,
   "metadata": {},
   "outputs": [
    {
     "data": {
      "text/plain": [
       "<AxesSubplot:>"
      ]
     },
     "execution_count": 12,
     "metadata": {},
     "output_type": "execute_result"
    },
    {
     "data": {
      "image/png": "[encoded data removed]",
      "text/plain": [
       "<Figure size 432x288 with 2 Axes>"
      ]
     },
     "metadata": {
      "needs_background": "light"
     },
     "output_type": "display_data"
    }
   ],
   "source": [
    "import seaborn as sns\n",
    "sns.heatmap(data.corr(), annot = True)"
   ]
  },
  {
   "cell_type": "code",
   "execution_count": 13,
   "metadata": {},
   "outputs": [
    {
     "data": {
      "text/html": [
       "<div>\n",
       "<style scoped>\n",
       "    .dataframe tbody tr th:only-of-type {\n",
       "        vertical-align: middle;\n",
       "    }\n",
       "\n",
       "    .dataframe tbody tr th {\n",
       "        vertical-align: top;\n",
       "    }\n",
       "\n",
       "    .dataframe thead th {\n",
       "        text-align: right;\n",
       "    }\n",
       "</style>\n",
       "<table border=\"1\" class=\"dataframe\">\n",
       "  <thead>\n",
       "    <tr style=\"text-align: right;\">\n",
       "      <th></th>\n",
       "      <th>ID</th>\n",
       "      <th>SALARY</th>\n",
       "      <th>EDUCATION</th>\n",
       "      <th>AGE</th>\n",
       "      <th>AVERAGE PAYMENT DELAY</th>\n",
       "      <th>DEFAULT</th>\n",
       "      <th>SEX-2</th>\n",
       "      <th>MARRIAGE-2</th>\n",
       "    </tr>\n",
       "  </thead>\n",
       "  <tbody>\n",
       "    <tr>\n",
       "      <th>ID</th>\n",
       "      <td>1.000000</td>\n",
       "      <td>0.023510</td>\n",
       "      <td>0.027405</td>\n",
       "      <td>0.020221</td>\n",
       "      <td>-0.022250</td>\n",
       "      <td>-0.013733</td>\n",
       "      <td>0.020164</td>\n",
       "      <td>-0.024537</td>\n",
       "    </tr>\n",
       "    <tr>\n",
       "      <th>SALARY</th>\n",
       "      <td>0.023510</td>\n",
       "      <td>1.000000</td>\n",
       "      <td>-0.252313</td>\n",
       "      <td>0.151659</td>\n",
       "      <td>-0.172575</td>\n",
       "      <td>-0.153576</td>\n",
       "      <td>0.023998</td>\n",
       "      <td>-0.097990</td>\n",
       "    </tr>\n",
       "    <tr>\n",
       "      <th>EDUCATION</th>\n",
       "      <td>0.027405</td>\n",
       "      <td>-0.252313</td>\n",
       "      <td>1.000000</td>\n",
       "      <td>0.190031</td>\n",
       "      <td>0.065518</td>\n",
       "      <td>0.055502</td>\n",
       "      <td>0.009496</td>\n",
       "      <td>-0.176812</td>\n",
       "    </tr>\n",
       "    <tr>\n",
       "      <th>AGE</th>\n",
       "      <td>0.020221</td>\n",
       "      <td>0.151659</td>\n",
       "      <td>0.190031</td>\n",
       "      <td>1.000000</td>\n",
       "      <td>-0.003312</td>\n",
       "      <td>0.012983</td>\n",
       "      <td>-0.092140</td>\n",
       "      <td>-0.466317</td>\n",
       "    </tr>\n",
       "    <tr>\n",
       "      <th>AVERAGE PAYMENT DELAY</th>\n",
       "      <td>-0.022250</td>\n",
       "      <td>-0.172575</td>\n",
       "      <td>0.065518</td>\n",
       "      <td>-0.003312</td>\n",
       "      <td>1.000000</td>\n",
       "      <td>0.401692</td>\n",
       "      <td>-0.032099</td>\n",
       "      <td>-0.016809</td>\n",
       "    </tr>\n",
       "    <tr>\n",
       "      <th>DEFAULT</th>\n",
       "      <td>-0.013733</td>\n",
       "      <td>-0.153576</td>\n",
       "      <td>0.055502</td>\n",
       "      <td>0.012983</td>\n",
       "      <td>0.401692</td>\n",
       "      <td>1.000000</td>\n",
       "      <td>-0.038963</td>\n",
       "      <td>-0.031437</td>\n",
       "    </tr>\n",
       "    <tr>\n",
       "      <th>SEX-2</th>\n",
       "      <td>0.020164</td>\n",
       "      <td>0.023998</td>\n",
       "      <td>0.009496</td>\n",
       "      <td>-0.092140</td>\n",
       "      <td>-0.032099</td>\n",
       "      <td>-0.038963</td>\n",
       "      <td>1.000000</td>\n",
       "      <td>-0.031002</td>\n",
       "    </tr>\n",
       "    <tr>\n",
       "      <th>MARRIAGE-2</th>\n",
       "      <td>-0.024537</td>\n",
       "      <td>-0.097990</td>\n",
       "      <td>-0.176812</td>\n",
       "      <td>-0.466317</td>\n",
       "      <td>-0.016809</td>\n",
       "      <td>-0.031437</td>\n",
       "      <td>-0.031002</td>\n",
       "      <td>1.000000</td>\n",
       "    </tr>\n",
       "  </tbody>\n",
       "</table>\n",
       "</div>"
      ],
      "text/plain": [
       "                             ID    SALARY  EDUCATION       AGE  \\\n",
       "ID                     1.000000  0.023510   0.027405  0.020221   \n",
       "SALARY                 0.023510  1.000000  -0.252313  0.151659   \n",
       "EDUCATION              0.027405 -0.252313   1.000000  0.190031   \n",
       "AGE                    0.020221  0.151659   0.190031  1.000000   \n",
       "AVERAGE PAYMENT DELAY -0.022250 -0.172575   0.065518 -0.003312   \n",
       "DEFAULT               -0.013733 -0.153576   0.055502  0.012983   \n",
       "SEX-2                  0.020164  0.023998   0.009496 -0.092140   \n",
       "MARRIAGE-2            -0.024537 -0.097990  -0.176812 -0.466317   \n",
       "\n",
       "                       AVERAGE PAYMENT DELAY   DEFAULT     SEX-2  MARRIAGE-2  \n",
       "ID                                 -0.022250 -0.013733  0.020164   -0.024537  \n",
       "SALARY                             -0.172575 -0.153576  0.023998   -0.097990  \n",
       "EDUCATION                           0.065518  0.055502  0.009496   -0.176812  \n",
       "AGE                                -0.003312  0.012983 -0.092140   -0.466317  \n",
       "AVERAGE PAYMENT DELAY               1.000000  0.401692 -0.032099   -0.016809  \n",
       "DEFAULT                             0.401692  1.000000 -0.038963   -0.031437  \n",
       "SEX-2                              -0.032099 -0.038963  1.000000   -0.031002  \n",
       "MARRIAGE-2                         -0.016809 -0.031437 -0.031002    1.000000  "
      ]
     },
     "execution_count": 13,
     "metadata": {},
     "output_type": "execute_result"
    }
   ],
   "source": [
    "data.corr()"
   ]
  },
  {
   "cell_type": "markdown",
   "metadata": {},
   "source": [
    "#### The three most correlated features (both positive and negative)  to the DEFAULT feature gave a relatively good performance: SALARY, EDUCATION AND AVERAGE PAYMENT DELAY"
   ]
  },
  {
   "cell_type": "markdown",
   "metadata": {},
   "source": [
    "## Split data: two-third for Train, one-third for Test"
   ]
  },
  {
   "cell_type": "code",
   "execution_count": 14,
   "metadata": {},
   "outputs": [],
   "source": [
    "X = data.drop(['ID','DEFAULT','AGE','MARRIAGE-2','SEX-2'],axis = 1)\n",
    "y = data['DEFAULT']"
   ]
  },
  {
   "cell_type": "code",
   "execution_count": 15,
   "metadata": {},
   "outputs": [
    {
     "data": {
      "text/plain": [
       "Index(['SALARY', 'EDUCATION', 'AVERAGE PAYMENT DELAY'], dtype='object')"
      ]
     },
     "execution_count": 15,
     "metadata": {},
     "output_type": "execute_result"
    }
   ],
   "source": [
    "X.columns"
   ]
  },
  {
   "cell_type": "code",
   "execution_count": 16,
   "metadata": {},
   "outputs": [],
   "source": [
    "from sklearn.model_selection import train_test_split\n",
    "X_train, X_test, y_train, y_test = train_test_split(X, y, test_size=0.33, random_state=30)"
   ]
  },
  {
   "cell_type": "markdown",
   "metadata": {},
   "source": [
    "## Creating a Tree-based model with Random Forest Classifier"
   ]
  },
  {
   "cell_type": "code",
   "execution_count": 17,
   "metadata": {},
   "outputs": [
    {
     "name": "stdout",
     "output_type": "stream",
     "text": [
      "              precision    recall  f1-score   support\n",
      "\n",
      "           0       0.83      0.95      0.89      7434\n",
      "           1       0.68      0.33      0.44      2190\n",
      "\n",
      "    accuracy                           0.81      9624\n",
      "   macro avg       0.75      0.64      0.66      9624\n",
      "weighted avg       0.79      0.81      0.79      9624\n",
      "\n"
     ]
    }
   ],
   "source": [
    "from sklearn.ensemble import RandomForestClassifier\n",
    "classifier = RandomForestClassifier()\n",
    "classifier.fit(X_train,y_train)\n",
    "y_pred = classifier.predict(X_test)\n",
    "print(classification_report(y_test,y_pred))"
   ]
  },
  {
   "cell_type": "markdown",
   "metadata": {},
   "source": [
    "## Performance evaluation"
   ]
  },
  {
   "cell_type": "code",
   "execution_count": 18,
   "metadata": {},
   "outputs": [
    {
     "name": "stdout",
     "output_type": "stream",
     "text": [
      "The accuracy score achieved using Random Forest Classifer is: 81.20324189526184 %\n"
     ]
    }
   ],
   "source": [
    "score = accuracy_score(y_pred, y_test)*100\n",
    "\n",
    "print(\"The accuracy score achieved using Random Forest Classifer is: \"+str(score)+\" %\")"
   ]
  },
  {
   "cell_type": "code",
   "execution_count": 19,
   "metadata": {},
   "outputs": [
    {
     "name": "stdout",
     "output_type": "stream",
     "text": [
      "              precision    recall  f1-score   support\n",
      "\n",
      "           0       0.83      0.95      0.89      7434\n",
      "           1       0.68      0.33      0.44      2190\n",
      "\n",
      "    accuracy                           0.81      9624\n",
      "   macro avg       0.75      0.64      0.66      9624\n",
      "weighted avg       0.79      0.81      0.79      9624\n",
      "\n"
     ]
    }
   ],
   "source": [
    "print(classification_report(y_test,y_pred))"
   ]
  },
  {
   "cell_type": "code",
   "execution_count": 20,
   "metadata": {},
   "outputs": [
    {
     "name": "stdout",
     "output_type": "stream",
     "text": [
      "[[7096  338]\n",
      " [1471  719]]\n"
     ]
    }
   ],
   "source": [
    "print(confusion_matrix(y_test,y_pred))"
   ]
  },
  {
   "cell_type": "code",
   "execution_count": 21,
   "metadata": {},
   "outputs": [
    {
     "data": {
      "text/plain": [
       "<AxesSubplot:>"
      ]
     },
     "execution_count": 21,
     "metadata": {},
     "output_type": "execute_result"
    },
    {
     "data": {
      "image/png": "[encoded data removed]",
      "text/plain": [
       "<Figure size 432x288 with 2 Axes>"
      ]
     },
     "metadata": {
      "needs_background": "light"
     },
     "output_type": "display_data"
    }
   ],
   "source": [
    "sns.heatmap(confusion_matrix(y_test,y_pred),annot= True,cmap='Blues')"
   ]
  },
  {
   "cell_type": "markdown",
   "metadata": {},
   "source": [
    "## Preprocessing for Model Deployment"
   ]
  },
  {
   "cell_type": "code",
   "execution_count": 22,
   "metadata": {},
   "outputs": [],
   "source": [
    "final_dataset = data[['SALARY', 'EDUCATION', 'AVERAGE PAYMENT DELAY','DEFAULT']]"
   ]
  },
  {
   "cell_type": "code",
   "execution_count": 23,
   "metadata": {},
   "outputs": [
    {
     "data": {
      "text/html": [
       "<div>\n",
       "<style scoped>\n",
       "    .dataframe tbody tr th:only-of-type {\n",
       "        vertical-align: middle;\n",
       "    }\n",
       "\n",
       "    .dataframe tbody tr th {\n",
       "        vertical-align: top;\n",
       "    }\n",
       "\n",
       "    .dataframe thead th {\n",
       "        text-align: right;\n",
       "    }\n",
       "</style>\n",
       "<table border=\"1\" class=\"dataframe\">\n",
       "  <thead>\n",
       "    <tr style=\"text-align: right;\">\n",
       "      <th></th>\n",
       "      <th>SALARY</th>\n",
       "      <th>EDUCATION</th>\n",
       "      <th>AVERAGE PAYMENT DELAY</th>\n",
       "      <th>DEFAULT</th>\n",
       "    </tr>\n",
       "  </thead>\n",
       "  <tbody>\n",
       "    <tr>\n",
       "      <th>0</th>\n",
       "      <td>20000.0</td>\n",
       "      <td>2</td>\n",
       "      <td>2</td>\n",
       "      <td>1</td>\n",
       "    </tr>\n",
       "    <tr>\n",
       "      <th>1</th>\n",
       "      <td>120000.0</td>\n",
       "      <td>2</td>\n",
       "      <td>-1</td>\n",
       "      <td>1</td>\n",
       "    </tr>\n",
       "    <tr>\n",
       "      <th>2</th>\n",
       "      <td>90000.0</td>\n",
       "      <td>2</td>\n",
       "      <td>-1</td>\n",
       "      <td>0</td>\n",
       "    </tr>\n",
       "    <tr>\n",
       "      <th>3</th>\n",
       "      <td>50000.0</td>\n",
       "      <td>2</td>\n",
       "      <td>-1</td>\n",
       "      <td>0</td>\n",
       "    </tr>\n",
       "    <tr>\n",
       "      <th>4</th>\n",
       "      <td>50000.0</td>\n",
       "      <td>2</td>\n",
       "      <td>-1</td>\n",
       "      <td>0</td>\n",
       "    </tr>\n",
       "    <tr>\n",
       "      <th>...</th>\n",
       "      <td>...</td>\n",
       "      <td>...</td>\n",
       "      <td>...</td>\n",
       "      <td>...</td>\n",
       "    </tr>\n",
       "    <tr>\n",
       "      <th>29158</th>\n",
       "      <td>220000.0</td>\n",
       "      <td>3</td>\n",
       "      <td>-1</td>\n",
       "      <td>0</td>\n",
       "    </tr>\n",
       "    <tr>\n",
       "      <th>29159</th>\n",
       "      <td>150000.0</td>\n",
       "      <td>3</td>\n",
       "      <td>-1</td>\n",
       "      <td>0</td>\n",
       "    </tr>\n",
       "    <tr>\n",
       "      <th>29160</th>\n",
       "      <td>30000.0</td>\n",
       "      <td>2</td>\n",
       "      <td>4</td>\n",
       "      <td>1</td>\n",
       "    </tr>\n",
       "    <tr>\n",
       "      <th>29161</th>\n",
       "      <td>80000.0</td>\n",
       "      <td>3</td>\n",
       "      <td>1</td>\n",
       "      <td>1</td>\n",
       "    </tr>\n",
       "    <tr>\n",
       "      <th>29162</th>\n",
       "      <td>50000.0</td>\n",
       "      <td>2</td>\n",
       "      <td>-1</td>\n",
       "      <td>1</td>\n",
       "    </tr>\n",
       "  </tbody>\n",
       "</table>\n",
       "<p>29163 rows × 4 columns</p>\n",
       "</div>"
      ],
      "text/plain": [
       "         SALARY  EDUCATION  AVERAGE PAYMENT DELAY  DEFAULT\n",
       "0       20000.0          2                      2        1\n",
       "1      120000.0          2                     -1        1\n",
       "2       90000.0          2                     -1        0\n",
       "3       50000.0          2                     -1        0\n",
       "4       50000.0          2                     -1        0\n",
       "...         ...        ...                    ...      ...\n",
       "29158  220000.0          3                     -1        0\n",
       "29159  150000.0          3                     -1        0\n",
       "29160   30000.0          2                      4        1\n",
       "29161   80000.0          3                      1        1\n",
       "29162   50000.0          2                     -1        1\n",
       "\n",
       "[29163 rows x 4 columns]"
      ]
     },
     "execution_count": 23,
     "metadata": {},
     "output_type": "execute_result"
    }
   ],
   "source": [
    "final_dataset"
   ]
  },
  {
   "cell_type": "code",
   "execution_count": 24,
   "metadata": {},
   "outputs": [],
   "source": [
    "final_dataset.to_csv('Credit Default Clean Dataset.csv',index = False)"
   ]
  },
  {
   "cell_type": "code",
   "execution_count": 25,
   "metadata": {},
   "outputs": [],
   "source": [
    "def input_to_dataframe(salary,education,avg_pay_delay):\n",
    "    X_dataframe = pd.DataFrame([{'SALARY':salary,  'EDUCATION':education,'AVERAGE PAYMENT DELAY':avg_pay_delay}])\n",
    "    return X_dataframe"
   ]
  },
  {
   "cell_type": "code",
   "execution_count": 26,
   "metadata": {},
   "outputs": [],
   "source": [
    "teat = input_to_dataframe('8282','3','-1')"
   ]
  },
  {
   "cell_type": "markdown",
   "metadata": {},
   "source": [
    "## Saving the model"
   ]
  },
  {
   "cell_type": "code",
   "execution_count": 27,
   "metadata": {},
   "outputs": [],
   "source": [
    "import pickle\n",
    "pickle.dump(classifier, open(\"model.sav\", 'wb'))"
   ]
  },
  {
   "cell_type": "code",
   "execution_count": 28,
   "metadata": {},
   "outputs": [],
   "source": [
    "loaded_model = pickle.load(open(\"model.sav\", 'rb'))"
   ]
  },
  {
   "cell_type": "code",
   "execution_count": 29,
   "metadata": {},
   "outputs": [
    {
     "data": {
      "text/plain": [
       "array([0], dtype=int64)"
      ]
     },
     "execution_count": 29,
     "metadata": {},
     "output_type": "execute_result"
    }
   ],
   "source": [
    "loaded_model.predict(teat)"
   ]
  },
  {
   "cell_type": "code",
   "execution_count": null,
   "metadata": {},
   "outputs": [],
   "source": []
  },
  {
   "cell_type": "markdown",
   "metadata": {},
   "source": [
    "# Notes\n",
    "\n",
    "### Achieving an overall accuracy score of 81% with just three (3) features is awesome, and it helps us with the  model explanability to a good extent.\n",
    "\n",
    "### With more relevant features, we should be able to get a better performance. The following features may be relevant: loan amount, referrals, socio-demographic data, past transacion records, etc.\n",
    "\n",
    "### From the classification report, the model performed extremely excellent (89%) in identifying potential non-defaulters, but is below average (44%) in identifying potential defaulters. This is most likely because imbalance 'DEFAULT' variable\n"
   ]
  },
  {
   "cell_type": "code",
   "execution_count": null,
   "metadata": {},
   "outputs": [],
   "source": []
  }
 ],
 "metadata": {
  "kernelspec": {
   "display_name": "Python 3",
   "language": "python",
   "name": "python3"
  },
  "language_info": {
   "codemirror_mode": {
    "name": "ipython",
    "version": 3
   },
   "file_extension": ".py",
   "mimetype": "text/x-python",
   "name": "python",
   "nbconvert_exporter": "python",
   "pygments_lexer": "ipython3",
   "version": "3.8.5"
  }
 },
 "nbformat": 4,
 "nbformat_minor": 4
}
